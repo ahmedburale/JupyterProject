{
 "cells": [
  {
   "metadata": {},
   "cell_type": "markdown",
   "source": [
    "# Statistics and Describing Data\n",
    "\n",
    "Statistics refer to the mathematics and techniques with which we understand data."
   ],
   "id": "6936f9a8f3ed5524"
  },
  {
   "metadata": {},
   "cell_type": "markdown",
   "source": [
    "### Descripting a Single Set of Data\n",
    "DataSciencester has grown to dozens of members, and the VP of Fundraising asks you for some sort of description of how many friends your members have that he can include in his elevator pitches."
   ],
   "id": "8036df804725205"
  },
  {
   "metadata": {
    "ExecuteTime": {
     "end_time": "2025-06-03T20:35:41.232871Z",
     "start_time": "2025-06-03T20:35:40.954169Z"
    }
   },
   "cell_type": "code",
   "source": [
    "\n",
    "\n",
    "from collections import Counter\n",
    "\n",
    "import matplotlib.pyplot as plt\n",
    "\n",
    "num_friends = [\n",
    "    0, 1, 1, 1, 1,\n",
    "    3, 3, 3,\n",
    "    5, 5,\n",
    "    6, 6, 6, 6,\n",
    "    7,\n",
    "    9, 9, 9,\n",
    "    13, 14\n",
    "]\n",
    "\n",
    "\n",
    "# First approach: put the friends counts into a histogram using Counter and plt.bar\n",
    "friends_counts = Counter(num_friends)\n",
    "xs = range(101)\n",
    "ys = [friends_counts[x] for x in xs]\n",
    "plt.bar(xs, ys)\n",
    "plt.axis([0,101,0,25])\n",
    "plt.title(\"Histogram of Friend Counts\")\n",
    "plt.xlabel(\"# of friends\")\n",
    "plt.ylabel(\"# of people\")\n",
    "plt.show()\n",
    "\n",
    "num_points = len(num_friends)\n",
    "\n",
    "largest_value = max(num_friends)\n",
    "smallest_value = min(num_friends)\n",
    "\n",
    "sorted_values = sorted(num_friends)\n",
    "smallest_value = sorted_values[0]"
   ],
   "id": "a768411be8546bec",
   "outputs": [
    {
     "data": {
      "text/plain": [
       "<Figure size 640x480 with 1 Axes>"
      ],
      "image/png": "[encoded data removed]"
     },
     "metadata": {},
     "output_type": "display_data"
    }
   ],
   "execution_count": 38
  },
  {
   "metadata": {},
   "cell_type": "markdown",
   "source": [
    "### Central Tendencies\n",
    "Usually, we'll want some notion of where our data is centered. Using the mean(average), which is the sum of the data divided by its count.\n",
    "\n",
    "The mea is very sensitive to outliers. A generalization of the median is the quantile, which represents the value under which a certain percentile of the data lies (the median represents the value under which 50% of the data lies)."
   ],
   "id": "78d4a456f0e8c12f"
  },
  {
   "metadata": {
    "ExecuteTime": {
     "end_time": "2025-06-03T20:35:41.297981Z",
     "start_time": "2025-06-03T20:35:41.279164Z"
    }
   },
   "cell_type": "code",
   "source": [
    "from typing import List\n",
    "\n",
    "# mean\n",
    "def mean(xs:List[float])-> float:\n",
    "    return sum(xs) / len(xs)\n",
    "mean(num_friends)\n",
    "\n",
    "# Mode\n",
    "def _median_odd(xs: List[float]) -> float:\n",
    "    \"\"\"if len(xs) is odd, the median is the middle element\"\"\"\n",
    "    return sorted(xs)[len(xs) // 2]\n",
    "\n",
    "def _median_even(xs: List[float]) -> float:\n",
    "    \"\"\"if len(xs) is even, it is the average of the middle two elements\"\"\"\n",
    "    sorted_xs = sorted(xs)\n",
    "    hi_midpoint = len(xs) // 2          # e.g. len==4 → hi_midpoint==2\n",
    "    return (sorted_xs[hi_midpoint - 1] + sorted_xs[hi_midpoint]) / 2   # ← fixed\n",
    "\n",
    "def median(v: List[float]) -> float:\n",
    "    \"\"\"finds the middle-most value of v\"\"\"\n",
    "    return _median_even(v) if len(v) % 2 == 0 else _median_odd(v)\n",
    "assert median([1,10,2,9,5]) == 5\n",
    "assert median([1,9,2,10]) == (2+9) / 2\n",
    "\n",
    "# Compute the median number of friends\n",
    "print(median(num_friends))\n",
    "\n",
    "# Returns the pth-percentile value in x\n",
    "def quantiles(xs: List[float], p: float) -> float:\n",
    "    p_index = int(p * len(xs))\n",
    "    return sorted(xs)[p_index]\n",
    "assert quantiles(num_friends, 0.10) == 1\n",
    "assert quantiles(num_friends, 0.25) == 3\n",
    "assert quantiles(num_friends, 0.75) == 9\n",
    "assert quantiles(num_friends, 0.90) == 13\n",
    "\n",
    "\n",
    "# Less commonly you might want to look at the mode, or most common value(s)\n",
    "# Returns a list since there might be more than one mode\n",
    "def mode(x: List[float])-> List[float]:\n",
    "    counts = Counter(x)\n",
    "    max_count = max(counts.values())\n",
    "    return [x_i for x_i, count in counts.items() if count == max_count]\n",
    "assert set(mode(num_friends)) == {1,6}\n",
    "\n"
   ],
   "id": "615e1b670cb4d343",
   "outputs": [
    {
     "name": "stdout",
     "output_type": "stream",
     "text": [
      "5.5\n"
     ]
    }
   ],
   "execution_count": 39
  },
  {
   "metadata": {
    "ExecuteTime": {
     "end_time": "2025-06-03T20:35:41.382164Z",
     "start_time": "2025-06-03T20:35:41.377655Z"
    }
   },
   "cell_type": "code",
   "source": "",
   "id": "7dd83700d97632c3",
   "outputs": [],
   "execution_count": null
  }
 ],
 "metadata": {
  "kernelspec": {
   "display_name": "Python 3",
   "language": "python",
   "name": "python3"
  },
  "language_info": {
   "codemirror_mode": {
    "name": "ipython",
    "version": 2
   },
   "file_extension": ".py",
   "mimetype": "text/x-python",
   "name": "python",
   "nbconvert_exporter": "python",
   "pygments_lexer": "ipython2",
   "version": "2.7.6"
  }
 },
 "nbformat": 4,
 "nbformat_minor": 5
}
